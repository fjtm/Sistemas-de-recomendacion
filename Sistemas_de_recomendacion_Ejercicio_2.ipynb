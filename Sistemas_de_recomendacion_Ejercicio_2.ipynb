{
 "cells": [
  {
   "cell_type": "markdown",
   "metadata": {},
   "source": [
    "# Práctica Sistemas de Recomendación\n",
    "\n",
    "**Francisco Javier Tébar Martínez**\n",
    "\n",
    "29/04/2019"
   ]
  },
  {
   "cell_type": "markdown",
   "metadata": {
    "colab_type": "text",
    "id": "HPwTVI2nPX98"
   },
   "source": [
    "# Ejercicio 2"
   ]
  },
  {
   "cell_type": "markdown",
   "metadata": {
    "colab_type": "text",
    "id": "IM44wtFMQKae"
   },
   "source": [
    "## Creación del entorno de Spark y carga de datos"
   ]
  },
  {
   "cell_type": "markdown",
   "metadata": {
    "colab_type": "text",
    "id": "FQn5nZFBPfkk"
   },
   "source": [
    "Creamos el entorno de configuración de spark."
   ]
  },
  {
   "cell_type": "code",
   "execution_count": 0,
   "metadata": {
    "colab": {},
    "colab_type": "code",
    "id": "ADPBwOC4CvRx"
   },
   "outputs": [],
   "source": [
    "!apt-get install openjdk-8-jdk-headless -qq > /dev/null\n",
    "!wget -q https://www-us.apache.org/dist/spark/spark-2.4.2/spark-2.4.2-bin-hadoop2.7.tgz\n",
    "!tar xf spark-2.4.2-bin-hadoop2.7.tgz\n",
    "!pip install -q findspark"
   ]
  },
  {
   "cell_type": "code",
   "execution_count": 0,
   "metadata": {
    "colab": {},
    "colab_type": "code",
    "id": "T6WZccbWC3Jx"
   },
   "outputs": [],
   "source": [
    "import os\n",
    "os.environ[\"JAVA_HOME\"] = \"/usr/lib/jvm/java-8-openjdk-amd64\"\n",
    "os.environ[\"SPARK_HOME\"] = \"/content/spark-2.4.2-bin-hadoop2.7\""
   ]
  },
  {
   "cell_type": "code",
   "execution_count": 0,
   "metadata": {
    "colab": {},
    "colab_type": "code",
    "id": "b_AEBSVoC3MS"
   },
   "outputs": [],
   "source": [
    "import findspark\n",
    "findspark.init()\n",
    "from pyspark.sql import SparkSession\n",
    "from pyspark import SparkConf\n",
    "sparkSession = SparkSession.builder.master(\"local[*]\").getOrCreate()\n",
    "sparkContext = sparkSession.sparkContext"
   ]
  },
  {
   "cell_type": "code",
   "execution_count": 0,
   "metadata": {
    "colab": {},
    "colab_type": "code",
    "id": "s8m7nZq-vayH"
   },
   "outputs": [],
   "source": [
    "import os\n",
    "import pandas as pd\n",
    "import numpy as np"
   ]
  },
  {
   "cell_type": "markdown",
   "metadata": {
    "colab_type": "text",
    "id": "LruN4CgHP8ki"
   },
   "source": [
    "Clonamos el repositorio de github donde se han almacenado los datos."
   ]
  },
  {
   "cell_type": "code",
   "execution_count": 5,
   "metadata": {
    "colab": {
     "base_uri": "https://localhost:8080/",
     "height": 134
    },
    "colab_type": "code",
    "id": "NS65NxSEC7Vj",
    "outputId": "33fd2ae8-4668-4b97-f4e5-a15763bb28e1"
   },
   "outputs": [
    {
     "name": "stdout",
     "output_type": "stream",
     "text": [
      "Cloning into 'Sistemas-de-recomendacion'...\n",
      "remote: Enumerating objects: 1610, done.\u001b[K\n",
      "remote: Counting objects: 100% (1610/1610), done.\u001b[K\n",
      "remote: Compressing objects: 100% (1506/1506), done.\u001b[K\n",
      "remote: Total 1610 (delta 4), reused 1606 (delta 2), pack-reused 0\u001b[K\n",
      "Receiving objects: 100% (1610/1610), 10.85 MiB | 16.01 MiB/s, done.\n",
      "Resolving deltas: 100% (4/4), done.\n"
     ]
    }
   ],
   "source": [
    "!git clone --recursive https://github.com/fjtm/Sistemas-de-recomendacion.git"
   ]
  },
  {
   "cell_type": "markdown",
   "metadata": {
    "colab_type": "text",
    "id": "JkiQnl6gQIJs"
   },
   "source": [
    "Cargamos los datos"
   ]
  },
  {
   "cell_type": "code",
   "execution_count": 0,
   "metadata": {
    "colab": {},
    "colab_type": "code",
    "id": "SvddJgOiQC98"
   },
   "outputs": [],
   "source": [
    "plays = sparkSession.read.parquet('Sistemas-de-recomendacion/datos/lastfm_mini.parquet')"
   ]
  },
  {
   "cell_type": "code",
   "execution_count": 7,
   "metadata": {
    "colab": {
     "base_uri": "https://localhost:8080/",
     "height": 201
    },
    "colab_type": "code",
    "id": "V2u7IPEXSHom",
    "outputId": "93876bf5-088c-407e-db52-57977514efb1"
   },
   "outputs": [
    {
     "name": "stdout",
     "output_type": "stream",
     "text": [
      "+--------------------+--------------------+-----------+-----+\n",
      "|             user_id|           artist_id|artist_name|plays|\n",
      "+--------------------+--------------------+-----------+-----+\n",
      "|8358173502fcfd30b...|382f1005-e9ab-468...|       2pac| 54.0|\n",
      "|f434362a46b823536...|382f1005-e9ab-468...|       2pac|545.0|\n",
      "|135750e1a2107ae20...|382f1005-e9ab-468...|       2pac| 54.0|\n",
      "|41a072560f38290a2...|382f1005-e9ab-468...|       2pac|201.0|\n",
      "|57da4f4db6fc10eb7...|382f1005-e9ab-468...|       2pac| 86.0|\n",
      "+--------------------+--------------------+-----------+-----+\n",
      "only showing top 5 rows\n",
      "\n"
     ]
    }
   ],
   "source": [
    "plays.show(5)"
   ]
  },
  {
   "cell_type": "markdown",
   "metadata": {
    "colab_type": "text",
    "id": "rsey7oqUSQ9_"
   },
   "source": [
    "## Imprimimos por pantalla los 20 artistas que más aparecen"
   ]
  },
  {
   "cell_type": "markdown",
   "metadata": {
    "colab_type": "text",
    "id": "E1O8u27eSi3y"
   },
   "source": [
    "Consideramos que los artistas que más aparecen son aquellos con un mayor número de reproducciones. Así agrupamos por artist_id, sumamos por plays y ordenamos descendentemente."
   ]
  },
  {
   "cell_type": "code",
   "execution_count": 8,
   "metadata": {
    "colab": {
     "base_uri": "https://localhost:8080/",
     "height": 644
    },
    "colab_type": "code",
    "id": "ZDiLpCf3SiK4",
    "outputId": "1a62b845-5872-4a18-80b7-d0229471c8bd"
   },
   "outputs": [
    {
     "data": {
      "text/html": [
       "<div>\n",
       "<style scoped>\n",
       "    .dataframe tbody tr th:only-of-type {\n",
       "        vertical-align: middle;\n",
       "    }\n",
       "\n",
       "    .dataframe tbody tr th {\n",
       "        vertical-align: top;\n",
       "    }\n",
       "\n",
       "    .dataframe thead th {\n",
       "        text-align: right;\n",
       "    }\n",
       "</style>\n",
       "<table border=\"1\" class=\"dataframe\">\n",
       "  <thead>\n",
       "    <tr style=\"text-align: right;\">\n",
       "      <th></th>\n",
       "      <th>artist_name</th>\n",
       "      <th>sum(plays)</th>\n",
       "    </tr>\n",
       "  </thead>\n",
       "  <tbody>\n",
       "    <tr>\n",
       "      <th>0</th>\n",
       "      <td>the beatles</td>\n",
       "      <td>878602.0</td>\n",
       "    </tr>\n",
       "    <tr>\n",
       "      <th>1</th>\n",
       "      <td>radiohead</td>\n",
       "      <td>840236.0</td>\n",
       "    </tr>\n",
       "    <tr>\n",
       "      <th>2</th>\n",
       "      <td>pink floyd</td>\n",
       "      <td>492270.0</td>\n",
       "    </tr>\n",
       "    <tr>\n",
       "      <th>3</th>\n",
       "      <td>coldplay</td>\n",
       "      <td>489212.0</td>\n",
       "    </tr>\n",
       "    <tr>\n",
       "      <th>4</th>\n",
       "      <td>metallica</td>\n",
       "      <td>472438.0</td>\n",
       "    </tr>\n",
       "    <tr>\n",
       "      <th>5</th>\n",
       "      <td>muse</td>\n",
       "      <td>449794.0</td>\n",
       "    </tr>\n",
       "    <tr>\n",
       "      <th>6</th>\n",
       "      <td>red hot chili peppers</td>\n",
       "      <td>413867.0</td>\n",
       "    </tr>\n",
       "    <tr>\n",
       "      <th>7</th>\n",
       "      <td>nine inch nails</td>\n",
       "      <td>402385.0</td>\n",
       "    </tr>\n",
       "    <tr>\n",
       "      <th>8</th>\n",
       "      <td>system of a down</td>\n",
       "      <td>394673.0</td>\n",
       "    </tr>\n",
       "    <tr>\n",
       "      <th>9</th>\n",
       "      <td>nightwish</td>\n",
       "      <td>384564.0</td>\n",
       "    </tr>\n",
       "    <tr>\n",
       "      <th>10</th>\n",
       "      <td>linkin park</td>\n",
       "      <td>361024.0</td>\n",
       "    </tr>\n",
       "    <tr>\n",
       "      <th>11</th>\n",
       "      <td>in flames</td>\n",
       "      <td>351163.0</td>\n",
       "    </tr>\n",
       "    <tr>\n",
       "      <th>12</th>\n",
       "      <td>death cab for cutie</td>\n",
       "      <td>327846.0</td>\n",
       "    </tr>\n",
       "    <tr>\n",
       "      <th>13</th>\n",
       "      <td>led zeppelin</td>\n",
       "      <td>304345.0</td>\n",
       "    </tr>\n",
       "    <tr>\n",
       "      <th>14</th>\n",
       "      <td>placebo</td>\n",
       "      <td>303084.0</td>\n",
       "    </tr>\n",
       "    <tr>\n",
       "      <th>15</th>\n",
       "      <td>bob dylan</td>\n",
       "      <td>302726.0</td>\n",
       "    </tr>\n",
       "    <tr>\n",
       "      <th>16</th>\n",
       "      <td>the rolling stones</td>\n",
       "      <td>276854.0</td>\n",
       "    </tr>\n",
       "    <tr>\n",
       "      <th>17</th>\n",
       "      <td>rammstein</td>\n",
       "      <td>273125.0</td>\n",
       "    </tr>\n",
       "    <tr>\n",
       "      <th>18</th>\n",
       "      <td>the killers</td>\n",
       "      <td>271320.0</td>\n",
       "    </tr>\n",
       "    <tr>\n",
       "      <th>19</th>\n",
       "      <td>the cure</td>\n",
       "      <td>266426.0</td>\n",
       "    </tr>\n",
       "  </tbody>\n",
       "</table>\n",
       "</div>"
      ],
      "text/plain": [
       "              artist_name  sum(plays)\n",
       "0             the beatles    878602.0\n",
       "1               radiohead    840236.0\n",
       "2              pink floyd    492270.0\n",
       "3                coldplay    489212.0\n",
       "4               metallica    472438.0\n",
       "5                    muse    449794.0\n",
       "6   red hot chili peppers    413867.0\n",
       "7         nine inch nails    402385.0\n",
       "8        system of a down    394673.0\n",
       "9               nightwish    384564.0\n",
       "10            linkin park    361024.0\n",
       "11              in flames    351163.0\n",
       "12    death cab for cutie    327846.0\n",
       "13           led zeppelin    304345.0\n",
       "14                placebo    303084.0\n",
       "15              bob dylan    302726.0\n",
       "16     the rolling stones    276854.0\n",
       "17              rammstein    273125.0\n",
       "18            the killers    271320.0\n",
       "19               the cure    266426.0"
      ]
     },
     "execution_count": 8,
     "metadata": {
      "tags": []
     },
     "output_type": "execute_result"
    }
   ],
   "source": [
    "top_artist = (\n",
    "  plays\n",
    "    .groupBy([\"artist_id\",\"artist_name\"])\n",
    "    .sum()\n",
    "    .select([\"artist_name\",\"sum(plays)\"])\n",
    "    .orderBy(\"sum(plays)\", ascending = False)\n",
    ").toPandas()[0:20]\n",
    "\n",
    "top_artist"
   ]
  },
  {
   "cell_type": "markdown",
   "metadata": {
    "colab_type": "text",
    "id": "QS-6Fz5ZU-tE"
   },
   "source": [
    "## Sistema de recomendación por filtro colaborativo ALS (Alternating Least Squares)"
   ]
  },
  {
   "cell_type": "markdown",
   "metadata": {
    "colab_type": "text",
    "id": "L5ZIgSezVCTi"
   },
   "source": [
    "Para crear un sistema de recomendación basado en filtros colaborativos utilizaremos la función **ALS** proporcionada por **PYSPARK.ML**. El funcionamiento de este método se basa en la factorización de matrices y se puede resumir en la siguiente imágen: \n",
    "\n",
    "<img src=\"https://raw.githubusercontent.com/fjtm/Sistemas-de-recomendacion/master/img/tumblr_inline_nq15z3n02b1t7c979_540.png\" height=\"350\" width=\"600\"/>\n",
    "\n",
    "Los hiperparámetros principales del modelo **ALS** en **pyspark** son: \n",
    "\n",
    "<li> **regParam** : Constante de regularización del modelo.\n",
    "<li> **rank** : Número de factores latentes a considerar. \n",
    "<li> **maxIter** : Número de iteraciones que realizará el algorítmo. \n",
    "<li> **numUserBlocks** : Número de bloques de usuarios.\n",
    "<li> **numItemBlocks** : Número de bloques de items.\n",
    "  \n",
    "El modelo también cuenta con tres parámetros que toman como valores las columnas de usuarios, items y ratings. \n",
    "  \n",
    "Por último destacar el parámetro **coldStartStrategy**, el cual evita que el modelo falle al encontrarse con un usuario nuevo. "
   ]
  },
  {
   "cell_type": "markdown",
   "metadata": {
    "colab_type": "text",
    "id": "r5IKCws5efu2"
   },
   "source": [
    "En nuestro caso no disponemos de ratings propiamente dichos, sino que tenemos el número de reproducciones de cata artista por cada usuario. De esta manera, es razonable suponer que aquellos músicos con un mayor número de reproducciones tendrán un mayor rating (aunque no tiene porqué ser así). De esta manera utilizaremos el número de reproducciones como escala de ratings. \n",
    "\n",
    "En un primer lugar se creo un sistema de recomendación ALS con el número de reproducciones sin modificar. Si se hace así, tenemos el problema de que estos valores están muy esparcidos en orden de magnitud. Y así, nos enfrentamos a dos situaciones:\n",
    "\n",
    "<li> Dejamos que el modelo realice un gran overfit con valores razonables en los parámetros. Lo cual repercute en que aunque las recomendaciones pueden ser razonables hacemos el modelo tremendamente rígido.\n",
    "  \n",
    "<li> Nos vemos obligados a utilizar valores de regParam enormes (superiores a 100), para controlar el overfit haciendo el modelo más flexible, pero con unos resultados nefastos. \n",
    "  \n",
    "Para controlar este problema hay que escalar el número de reproducciones que se encuentra en un rango aproximado de 1-60000. Una manera de hacerlo es aplicando el logaritmo al número de reproducciones, que aunque no es la mejor manera de escalar nos permite preservar el orden. Destacar que podemos aplicar el logaritmo puesto que el menor número de reproducciones es 1. "
   ]
  },
  {
   "cell_type": "code",
   "execution_count": 0,
   "metadata": {
    "colab": {},
    "colab_type": "code",
    "id": "evuLJGwzjmlt"
   },
   "outputs": [],
   "source": [
    "import seaborn as sns\n",
    "import matplotlib.pyplot as plt\n",
    "import time\n",
    "from pyspark.ml.feature import StringIndexer\n",
    "from pyspark.ml.pipeline import Pipeline\n",
    "from pyspark.ml.recommendation import ALS\n",
    "from pyspark.ml.evaluation import RegressionEvaluator\n",
    "import pyspark.sql.functions as F\n",
    "from pyspark.ml.tuning import CrossValidator, ParamGridBuilder\n",
    "from pyspark.mllib.evaluation import RankingMetrics\n",
    "from pyspark.sql import Row"
   ]
  },
  {
   "cell_type": "code",
   "execution_count": 0,
   "metadata": {
    "colab": {},
    "colab_type": "code",
    "id": "cZ2J2S8UjhI3"
   },
   "outputs": [],
   "source": [
    "plays_log = plays.withColumn(\"plays_log\", F.log(\"plays\"))"
   ]
  },
  {
   "cell_type": "code",
   "execution_count": 11,
   "metadata": {
    "colab": {
     "base_uri": "https://localhost:8080/",
     "height": 368
    },
    "colab_type": "code",
    "id": "bg6hZ9qngmlJ",
    "outputId": "4bbcf370-950d-44aa-a101-2edc63cb6235"
   },
   "outputs": [
    {
     "data": {
      "image/png": "[encoded data removed]",
      "text/plain": [
       "<Figure size 432x360 with 1 Axes>"
      ]
     },
     "metadata": {
      "tags": []
     },
     "output_type": "display_data"
    }
   ],
   "source": [
    "plt.figure(figsize=(6, 5))\n",
    "g = sns.distplot(plays_log.select(\"plays_log\").collect())\n",
    "g.set_xlabel(\"log(Reproducciones)\", fontsize=20)\n",
    "g.set_ylabel(\"Frecuencia\", fontsize=20)\n",
    "g.tick_params(axis='both', which='major', labelsize=15)\n",
    "g.set_title(\"Hitograma del log(Reproducciones)\", fontsize=18)\n",
    "plt.show()"
   ]
  },
  {
   "cell_type": "markdown",
   "metadata": {
    "colab_type": "text",
    "id": "IZHLppDTluYY"
   },
   "source": [
    "Como podemos ver conseguimos que las reproducciones se encuentren en un rango aproximado de entre 0-10. "
   ]
  },
  {
   "cell_type": "markdown",
   "metadata": {
    "colab_type": "text",
    "id": "mZ23pYZTkaZO"
   },
   "source": [
    "Finalmente hay que tener otra consideración antes de buscar los hiperparámetros del modelo y es que las columnas de usuarios (user_id) e items (artist_id) solamente admiten números enteros. Para solucionarlo utilizamos la función **StringIndexer** disponible nuevamente en **pyspark.ml**. Como su nombre indica lo único que hace es coger una lista e indexarla. Este paso lo iremos implementando como sea conveniente en cada fase del desarrollo del modelo. "
   ]
  },
  {
   "cell_type": "markdown",
   "metadata": {
    "colab_type": "text",
    "id": "ptN04N3ikNI-"
   },
   "source": [
    "### Obtención de los hiperparámetros"
   ]
  },
  {
   "cell_type": "markdown",
   "metadata": {
    "colab_type": "text",
    "id": "_WXRKQVWkQA6"
   },
   "source": [
    "Lo primero de todo es obtener los hiperparámetros del modelo. Aunque en este caso tenemos principalmente los cinco hiperparámetros explicados anteriormente trabajaremos en la búsqueda intensiva de dos de ellos: regParam y rank a los que he llegado a la conclusión que son los más importantes. Se han probado combinaciones del resto de los parámetros dentro de las posibilidades:\n",
    "\n",
    "<li> Para maxIter debido a la falta de memoría solamente podiamos originalmente realizar 5 iteraciones. Para intentar reducir esta limitación he realizado la práctica en Google Colab lo que me permitió llegar hasta 20 iteraciones. Finalmente decidí elegir 10 iteraciones debido a que con 20 tardaba mucho más y los resultado eran similares a los obtenidos con 10. \n",
    "  \n",
    "<li> Con respecto a numUserBlocks y numItemBlocks he explorado menos estos hiperparámetros debido al enorme coste computacional que requería modificarlos en un rango importante. Los pocos cambios que he probado no han resultado ser muy relevantes en el resultado final. Así, realizaré el cross validate con el valor por defecto y para el modelo final bajaré este valor a 2, que a mi entender es el que mejores recomendaciones devuelve. "
   ]
  },
  {
   "cell_type": "markdown",
   "metadata": {
    "colab_type": "text",
    "id": "tIX8YU9ZiXWT"
   },
   "source": [
    "Teniendo en cuenta todo lo anteriormente dicho busquemos los dos hiperparámetros restantes."
   ]
  },
  {
   "cell_type": "markdown",
   "metadata": {
    "colab_type": "text",
    "id": "yok_K1d9nltw"
   },
   "source": [
    "Primero utilizamos StringIndexer antes de hacer cross validate para evitar errores de indexado."
   ]
  },
  {
   "cell_type": "code",
   "execution_count": 0,
   "metadata": {
    "colab": {},
    "colab_type": "code",
    "id": "mMtXUzFnkHqn"
   },
   "outputs": [],
   "source": [
    "indexer_user = StringIndexer(inputCol=\"user_id\", outputCol=\"user_id_index\")\n",
    "indexer_artist = StringIndexer(inputCol=\"artist_id\", outputCol=\"artist_id_index\")\n",
    "indexer_pipeline = Pipeline(stages=[indexer_user, indexer_artist])\n",
    "\n",
    "plays_log_train_indexer = indexer_pipeline.fit(plays_log)\n",
    "plays_log_indexer = plays_log_train_indexer.transform(plays_log)"
   ]
  },
  {
   "cell_type": "markdown",
   "metadata": {
    "colab_type": "text",
    "id": "Id9v3rvGn4Kr"
   },
   "source": [
    "A continuación separamos los datos en conjuntos de train y test. Train para buscar los valores y test para testear el overfit. "
   ]
  },
  {
   "cell_type": "code",
   "execution_count": 0,
   "metadata": {
    "colab": {},
    "colab_type": "code",
    "id": "0Qfzu5Qaodr-"
   },
   "outputs": [],
   "source": [
    "(train, test) = plays_log_indexer.randomSplit([0.8, 0.2], seed=12)"
   ]
  },
  {
   "cell_type": "markdown",
   "metadata": {
    "colab_type": "text",
    "id": "jDrPSmzGoomB"
   },
   "source": [
    "Definimos el modelo ALS\n",
    "\n"
   ]
  },
  {
   "cell_type": "code",
   "execution_count": 0,
   "metadata": {
    "colab": {},
    "colab_type": "code",
    "id": "Ql0JOakJSQVh"
   },
   "outputs": [],
   "source": [
    "ALS_search = ALS(\n",
    "\n",
    "    maxIter=10,\n",
    "    userCol=\"user_id_index\", \n",
    "    itemCol=\"artist_id_index\", \n",
    "    ratingCol=\"plays_log\",\n",
    "    coldStartStrategy=\"drop\",\n",
    "    numUserBlocks=10,\n",
    "    numItemBlocks=10\n",
    "\n",
    ")"
   ]
  },
  {
   "cell_type": "markdown",
   "metadata": {
    "colab_type": "text",
    "id": "2mBWCcIXpAvW"
   },
   "source": [
    "Configuramos la rejilla sobre la que buscar los parámetros"
   ]
  },
  {
   "cell_type": "code",
   "execution_count": 0,
   "metadata": {
    "colab": {},
    "colab_type": "code",
    "id": "0AAExfq7o7rZ"
   },
   "outputs": [],
   "source": [
    "paramGrid = (\n",
    "\n",
    "    ParamGridBuilder()\n",
    "    .addGrid(ALS_search.rank, [1, 5, 10, 25, 50, 100])\n",
    "    .addGrid(ALS_search.regParam, [0.001, 0.01, 0.1, 1, 10])\n",
    "    .build()\n",
    "\n",
    ")"
   ]
  },
  {
   "cell_type": "markdown",
   "metadata": {
    "colab_type": "text",
    "id": "Fwz7iDmEpJ7t"
   },
   "source": [
    "Utilizamos RMSE como métrica para evaluar el cross validate. "
   ]
  },
  {
   "cell_type": "code",
   "execution_count": 0,
   "metadata": {
    "colab": {},
    "colab_type": "code",
    "id": "7fSxi7DOpUAj"
   },
   "outputs": [],
   "source": [
    "evaluator = RegressionEvaluator(\n",
    "    metricName=\"rmse\", \n",
    "    labelCol=\"plays_log\",\n",
    "    predictionCol=\"prediction\"\n",
    ")"
   ]
  },
  {
   "cell_type": "code",
   "execution_count": 0,
   "metadata": {
    "colab": {},
    "colab_type": "code",
    "id": "lHrR-fJDowF_"
   },
   "outputs": [],
   "source": [
    "crossval = CrossValidator(\n",
    "\n",
    "    estimator=ALS_search,\n",
    "    estimatorParamMaps=paramGrid,\n",
    "    evaluator=evaluator,\n",
    "    numFolds=3 # Hacemos CV con 3-folds\n",
    "\n",
    ") "
   ]
  },
  {
   "cell_type": "markdown",
   "metadata": {
    "colab_type": "text",
    "id": "XkEk5OYGpfK9"
   },
   "source": [
    "Buscamos los parámetros. Es importante destacar que este proceso lleva bastante tiempo. "
   ]
  },
  {
   "cell_type": "code",
   "execution_count": 18,
   "metadata": {
    "colab": {
     "base_uri": "https://localhost:8080/",
     "height": 33
    },
    "colab_type": "code",
    "id": "38ZlkqLNpoet",
    "outputId": "4998d313-9ea7-4129-8a96-7142ae4c298b"
   },
   "outputs": [
    {
     "name": "stdout",
     "output_type": "stream",
     "text": [
      "Tiempo de búsqueda: 54.32 min\n"
     ]
    }
   ],
   "source": [
    "t0 = time.time()\n",
    "cvModel = crossval.fit(train)\n",
    "print(\"Tiempo de búsqueda:\", np.round((time.time() - t0)/60,2), \"min\")"
   ]
  },
  {
   "cell_type": "markdown",
   "metadata": {
    "colab_type": "text",
    "id": "JIRT0uRVqBRU"
   },
   "source": [
    "Tenemos que los mejores hiperparámetros son:"
   ]
  },
  {
   "cell_type": "code",
   "execution_count": 19,
   "metadata": {
    "colab": {
     "base_uri": "https://localhost:8080/",
     "height": 77
    },
    "colab_type": "code",
    "id": "zuHlKBWtqPL7",
    "outputId": "bffd63ed-5f5b-4b53-9f98-cc4926f37ca3"
   },
   "outputs": [
    {
     "data": {
      "text/html": [
       "<div>\n",
       "<style scoped>\n",
       "    .dataframe tbody tr th:only-of-type {\n",
       "        vertical-align: middle;\n",
       "    }\n",
       "\n",
       "    .dataframe tbody tr th {\n",
       "        vertical-align: top;\n",
       "    }\n",
       "\n",
       "    .dataframe thead th {\n",
       "        text-align: right;\n",
       "    }\n",
       "</style>\n",
       "<table border=\"1\" class=\"dataframe\">\n",
       "  <thead>\n",
       "    <tr style=\"text-align: right;\">\n",
       "      <th></th>\n",
       "      <th>metric</th>\n",
       "      <th>rank</th>\n",
       "      <th>regParam</th>\n",
       "    </tr>\n",
       "  </thead>\n",
       "  <tbody>\n",
       "    <tr>\n",
       "      <th>2</th>\n",
       "      <td>0.779533</td>\n",
       "      <td>1</td>\n",
       "      <td>0.1</td>\n",
       "    </tr>\n",
       "  </tbody>\n",
       "</table>\n",
       "</div>"
      ],
      "text/plain": [
       "     metric  rank  regParam\n",
       "2  0.779533     1       0.1"
      ]
     },
     "execution_count": 19,
     "metadata": {
      "tags": []
     },
     "output_type": "execute_result"
    }
   ],
   "source": [
    "results = [([{key.name: paramValue} for key, paramValue in zip(params.keys(), params.values())], metric) for params, metric in zip(cvModel.getEstimatorParamMaps(), cvModel.avgMetrics)] \n",
    "params = pd.DataFrame([(element[0]['rank'], element[1]['regParam']) for element in pd.DataFrame([(results[i][0],results[i][1]) for i in range(len(results))])[0]])\n",
    "metric = pd.DataFrame([element for element in pd.DataFrame([(results[i][0],results[i][1]) for i in range(len(results))])[1]])\n",
    "params.columns = ['rank', 'regParam']\n",
    "metric.columns = ['metric']\n",
    "results_df = pd.concat([metric, params], axis = 1)\n",
    "best_results = results_df.sort_values(\"metric\", ascending = True).head(1)\n",
    "best_results"
   ]
  },
  {
   "cell_type": "markdown",
   "metadata": {
    "colab_type": "text",
    "id": "1iSIbjqNrlk5"
   },
   "source": [
    "Es muy útil ver mediante un mapa como varía la métrica de error elegida en función de los hiperparámetros. "
   ]
  },
  {
   "cell_type": "code",
   "execution_count": 20,
   "metadata": {
    "colab": {
     "base_uri": "https://localhost:8080/",
     "height": 640
    },
    "colab_type": "code",
    "id": "C1I9x_RHrwX-",
    "outputId": "8f1ca80c-29a5-424e-bc92-ee31431df55d"
   },
   "outputs": [
    {
     "data": {
      "image/png": "[encoded data removed]",
      "text/plain": [
       "<Figure size 864x720 with 2 Axes>"
      ]
     },
     "metadata": {
      "tags": []
     },
     "output_type": "display_data"
    }
   ],
   "source": [
    "n_colors = 9\n",
    "cMap = plt.cm.get_cmap(\"YlGn_r\",lut=n_colors) \n",
    "\n",
    "plt.figure( figsize=(12, 10))\n",
    "plt.title('Rank vs RegParam')\n",
    "\n",
    "m_t_s = results_df.sort_values(by=['rank', 'regParam'])['metric'].values.reshape(len(np.unique(results_df['rank'])), -1)\n",
    "h_map = sns.heatmap(m_t_s, \n",
    "                    cmap=cMap, \n",
    "                    annot=True, \n",
    "                    xticklabels=list(np.unique(results_df['regParam'])),\n",
    "                    yticklabels=list(np.unique(results_df['rank'])),\n",
    "                    cbar_kws={'label': 'RMSE CV'},\n",
    "                    fmt=\".3\")\n",
    "h_map.set_ylabel('Rank')\n",
    "h_map.set_xlabel('RegParam')\n",
    "\n",
    "plt.xticks(rotation='vertical')\n",
    "plt.yticks(rotation=0)\n",
    "\n",
    "minimo = min(results_df.sort_values(by=['rank', 'regParam'])['metric'])\n",
    "maximo = max(results_df.sort_values(by=['rank', 'regParam'])['metric'])\n",
    "\n",
    "cbar = h_map.collections[0].colorbar\n",
    "l_ticks = [np.round(np.linspace(minimo, maximo, 9),2)][0]\n",
    "cbar.set_ticks(l_ticks)\n",
    "\n",
    "plt.show()"
   ]
  },
  {
   "cell_type": "markdown",
   "metadata": {
    "colab_type": "text",
    "id": "RO3GGU4msQIs"
   },
   "source": [
    "Como podemos ver el parámetro de regularización parece primar sobre el número de factores latentes para regularizaciones altas y viceversa para regularizaciones bajas.  Obteniendose el mejor resultado para un valor de regularización de 0.1 y 1 factor latente. "
   ]
  },
  {
   "cell_type": "markdown",
   "metadata": {
    "colab_type": "text",
    "id": "9VY_X6m1slWM"
   },
   "source": [
    "Veamos si el modelo está realizando overfit. "
   ]
  },
  {
   "cell_type": "code",
   "execution_count": 0,
   "metadata": {
    "colab": {},
    "colab_type": "code",
    "id": "NeEzAWJltCPM"
   },
   "outputs": [],
   "source": [
    "ALS_model = ALS(\n",
    "\n",
    "    rank=best_results['rank'].iloc[0], \n",
    "    regParam=best_results['regParam'].iloc[0], \n",
    "    maxIter=10,  \n",
    "    userCol=\"user_id_index\", \n",
    "    itemCol=\"artist_id_index\", \n",
    "    ratingCol=\"plays_log\",\n",
    "    coldStartStrategy=\"drop\",\n",
    "    numUserBlocks=10,\n",
    "    numItemBlocks=10\n",
    "\n",
    ")"
   ]
  },
  {
   "cell_type": "code",
   "execution_count": 22,
   "metadata": {
    "colab": {
     "base_uri": "https://localhost:8080/",
     "height": 50
    },
    "colab_type": "code",
    "id": "7FZ4bXkRtTsH",
    "outputId": "2154b96f-2dd8-4349-a65d-18d548bf3ba4"
   },
   "outputs": [
    {
     "name": "stdout",
     "output_type": "stream",
     "text": [
      "Root-mean-square error train = 0.689\n",
      "Root-mean-square error test = 0.747\n"
     ]
    }
   ],
   "source": [
    "model_train = ALS_model.fit(train)\n",
    "predictions_train = model_train.transform(train)\n",
    "predictions_test = model_train.transform(test)\n",
    "\n",
    "rmse_train = evaluator.evaluate(predictions_train)\n",
    "rmse_test = evaluator.evaluate(predictions_test)\n",
    "print(\"Root-mean-square error train = \" + str(np.round(rmse_train,3)))\n",
    "print(\"Root-mean-square error test = \" + str(np.round(rmse_test,3)))"
   ]
  },
  {
   "cell_type": "markdown",
   "metadata": {
    "colab_type": "text",
    "id": "EBvyuJjRuSXj"
   },
   "source": [
    "Observamos que para los hipeparámetros obtenidos el modelo casi no realiza overfit.  "
   ]
  },
  {
   "cell_type": "markdown",
   "metadata": {},
   "source": [
    "### Modelo final"
   ]
  },
  {
   "cell_type": "markdown",
   "metadata": {
    "colab_type": "text",
    "id": "8GXSR_SxLF7u"
   },
   "source": [
    "En este punto es importante destacar que, si seguimos con este número de factores latentes aunque el modelo no realiza overfit los resultados son tremendamente malos. Así, puesto que los valores de RMSE no parecen variar mucho con el número de factores latentes, se ha probado con diferentes valores. Eligiendo finalmente 25 factores latentes con los que se obtienen los mejores resultados (a mi parecer). \n",
    "\n",
    "Por tanto, definimos el modelo ALS con 25 factores latentes y 0.1 de regularización. Notesé, como deciamos hemos bajado el valor de numUserBlocks y numItemBlocks a 2. "
   ]
  },
  {
   "cell_type": "code",
   "execution_count": 0,
   "metadata": {
    "colab": {},
    "colab_type": "code",
    "id": "cPGSyEjyLYep"
   },
   "outputs": [],
   "source": [
    "ALS_model = ALS(\n",
    "\n",
    "    rank=25, \n",
    "    regParam=best_results['regParam'].iloc[0], \n",
    "    maxIter=10,  \n",
    "    userCol=\"user_id_index\", \n",
    "    itemCol=\"artist_id_index\", \n",
    "    ratingCol=\"plays_log\",\n",
    "    coldStartStrategy=\"drop\",\n",
    "    numUserBlocks=2,\n",
    "    numItemBlocks=2\n",
    "\n",
    ")"
   ]
  },
  {
   "cell_type": "code",
   "execution_count": 24,
   "metadata": {
    "colab": {
     "base_uri": "https://localhost:8080/",
     "height": 50
    },
    "colab_type": "code",
    "id": "e4B4D1wlNIym",
    "outputId": "767c03b4-dbfc-428c-9bfe-af151a4d4254"
   },
   "outputs": [
    {
     "name": "stdout",
     "output_type": "stream",
     "text": [
      "Root-mean-square error train = 0.454\n",
      "Root-mean-square error test = 0.77\n"
     ]
    }
   ],
   "source": [
    "model_train = ALS_model.fit(train)\n",
    "predictions_train = model_train.transform(train)\n",
    "predictions_test = model_train.transform(test)\n",
    "\n",
    "rmse_train = evaluator.evaluate(predictions_train)\n",
    "rmse_test = evaluator.evaluate(predictions_test)\n",
    "print(\"Root-mean-square error train = \" + str(np.round(rmse_train,3)))\n",
    "print(\"Root-mean-square error test = \" + str(np.round(rmse_test,3)))"
   ]
  },
  {
   "cell_type": "markdown",
   "metadata": {
    "colab_type": "text",
    "id": "1bT53eNzNJ-c"
   },
   "source": [
    "Efectivamente el overfit es mayor, sin embargo no es enorme en el rango que nos movemos."
   ]
  },
  {
   "cell_type": "markdown",
   "metadata": {
    "colab_type": "text",
    "id": "IAZjcvbOu7kl"
   },
   "source": [
    "Finalmente, es necesario entrenar el modelo con todos los datos de los que disponemos. "
   ]
  },
  {
   "cell_type": "code",
   "execution_count": 25,
   "metadata": {
    "colab": {
     "base_uri": "https://localhost:8080/",
     "height": 33
    },
    "colab_type": "code",
    "id": "_ctyRva2vIWH",
    "outputId": "c8e7471c-52c1-47ff-a419-3c5de562c521"
   },
   "outputs": [
    {
     "name": "stdout",
     "output_type": "stream",
     "text": [
      "Root-mean-square error final = 0.496\n"
     ]
    }
   ],
   "source": [
    "pipeline_model = Pipeline(stages=[indexer_user, indexer_artist, ALS_model])\n",
    "model_final = pipeline_model.fit(plays_log)\n",
    "predictions_final = model_final.transform(plays_log)\n",
    "\n",
    "rmse_final = evaluator.evaluate(predictions_final)\n",
    "print(\"Root-mean-square error final = \" + str(np.round(rmse_final,3)))"
   ]
  },
  {
   "cell_type": "markdown",
   "metadata": {
    "colab_type": "text",
    "id": "KXn5zPKPxLCB"
   },
   "source": [
    "Hasta ahora hemos estado intentado validar como de buenos son los resultados en función del RMSE, sin embargo, esta métrica no es adecuada para el problema que tenemos entre manos. \n",
    "\n",
    "Una mejor métrica para ver como de bueno es el modelo es utilizar una métrica de ranking. En este caso emplearé **NDCG (Normalized Discounted Cumulative Gain)**. Esta métrica tiene en cuenta cuantos de los documentos recomendados por el modelo se encuentra en la lista de documentos verdaderamente útiles (es importante que los documentos estén ordenados). Puesto que nosotros no disponemos de esta lista de validación, puede ser razonable utilizar como referencia los cantantes/grupos que escucha cada usuario. Así, tomaremos como set de recomendaciones óptimas la lista de reproducción de cada usuario. "
   ]
  },
  {
   "cell_type": "markdown",
   "metadata": {
    "colab_type": "text",
    "id": "lmi7Y5UZyfbf"
   },
   "source": [
    "Para poder utlizar la función **ndcgAt** de **pyspark.mlib** es necesario estructurar las recomendaciones de la siguiente manera: \n",
    "\n",
    "$$([\\text{lista reproducciones ordenada para usuario 1}], [\\text{recomendaciones ordenadas para usuario 1}]),[\\text{lista reproducciones ordenada para usuario 2}], [\\text{recomendaciones ordenadas para usuario 2}]),...$$\n",
    "\n",
    "Así, realicemos las predicciones."
   ]
  },
  {
   "cell_type": "code",
   "execution_count": 0,
   "metadata": {
    "colab": {},
    "colab_type": "code",
    "id": "rZ6DQmP2ycnd"
   },
   "outputs": [],
   "source": [
    "userRecs = model_final.stages[2].recommendForAllUsers(20)\n",
    "recommendations_all_users = (\n",
    "    \n",
    "    userRecs\n",
    "    .withColumn(\"recommendations\", F.explode(\"recommendations\"))\n",
    "    .withColumn(\"artist_id_index\", F.col('recommendations')['artist_id_index'])\n",
    "    .withColumn(\"rating\", F.col('recommendations')['rating'])\n",
    "    .drop(\"recommendations\")\n",
    "    .join(plays_log_indexer.select(['artist_id_index', 'artist_name']).distinct(), ['artist_id_index'], 'left')\n",
    "    .join(plays_log_indexer.select(['user_id_index', 'user_id']).distinct(), ['user_id_index'], 'left')\n",
    "    .distinct()\n",
    "    .select([\"user_id\", \"artist_name\",\"rating\"])\n",
    "    .orderBy(F.desc('rating'))\n",
    "    \n",
    ").rdd"
   ]
  },
  {
   "cell_type": "markdown",
   "metadata": {
    "colab_type": "text",
    "id": "leQHNiTz0OXf"
   },
   "source": [
    "Reestructuramos las recomendaciones"
   ]
  },
  {
   "cell_type": "code",
   "execution_count": 0,
   "metadata": {
    "colab": {},
    "colab_type": "code",
    "id": "wuV1vMozycqN"
   },
   "outputs": [],
   "source": [
    "recommendations_all_final = recommendations_all_users.map(lambda x: Row(**{\"user_id\": x.user_id, \"artist\":x.artist_name}))\n",
    "group_user = recommendations_all_final.groupBy(lambda x: x.user_id)\n",
    "group_agg_recom = group_user.map(lambda x: Row(**{'user_id': x[0], 'artist': [t.artist for t in x[1]]}))\n",
    "group_agg_recom = group_agg_recom.toDF([\"artist_predict\", \"user_id\"])"
   ]
  },
  {
   "cell_type": "markdown",
   "metadata": {
    "colab_type": "text",
    "id": "rml79RyB0dni"
   },
   "source": [
    "Reestructuramos las playlists"
   ]
  },
  {
   "cell_type": "code",
   "execution_count": 0,
   "metadata": {
    "colab": {},
    "colab_type": "code",
    "id": "dO3FNACQ0ZDw"
   },
   "outputs": [],
   "source": [
    "plays_real = plays_log.select([\"user_id\",\"artist_name\",\"plays_log\"]).orderBy(\"plays_log\",ascending = False).rdd\n",
    "group_user_real = plays_real.groupBy(lambda x: x.user_id)\n",
    "group_agg_real = group_user_real.map(lambda x: Row(**{'user_id': x[0], 'artist': [t.artist_name for t in x[1]]}))\n",
    "group_agg_real = group_agg_real.toDF([\"artist_real\", \"user_id\"])"
   ]
  },
  {
   "cell_type": "markdown",
   "metadata": {
    "colab_type": "text",
    "id": "Zo3VwJuu00Sv"
   },
   "source": [
    "Unimos los resultados"
   ]
  },
  {
   "cell_type": "code",
   "execution_count": 0,
   "metadata": {
    "colab": {},
    "colab_type": "code",
    "id": "WCwhNfIA010h"
   },
   "outputs": [],
   "source": [
    "predictionAndLabels = group_agg_real.join(group_agg_recom, ['user_id']).select([\"artist_real\", \"artist_predict\"]).rdd.map(lambda x: (x[0],x[1]))"
   ]
  },
  {
   "cell_type": "markdown",
   "metadata": {
    "colab_type": "text",
    "id": "lDTR6giY07PI"
   },
   "source": [
    "Evaluamos la métrica NDCG. En concreto para los 10 primeros elementos de cada playlist."
   ]
  },
  {
   "cell_type": "code",
   "execution_count": 30,
   "metadata": {
    "colab": {
     "base_uri": "https://localhost:8080/",
     "height": 33
    },
    "colab_type": "code",
    "id": "en8_DZ0O1EVz",
    "outputId": "4fb8990f-f38a-4cbe-cc06-33219cb662dc"
   },
   "outputs": [
    {
     "name": "stdout",
     "output_type": "stream",
     "text": [
      "NDCG at 10-elements:0.143\n"
     ]
    }
   ],
   "source": [
    "metrics = RankingMetrics(predictionAndLabels)\n",
    "print(\"NDCG at 10-elements:\" + str(np.round(metrics.ndcgAt(10),3)))"
   ]
  },
  {
   "cell_type": "markdown",
   "metadata": {
    "colab_type": "text",
    "id": "nWYipC4q1clS"
   },
   "source": [
    "Aunque no es un valor muy elevado teniendo en cuenta las limitaciones del modelo no está mal. Si bajamos el número de factores latentes en general he obtenido unos resultados en el rango [0.01-0.001]. Al contrario, si subimos el número de factores latentes a 100 o superior se llega casi al 0.3, pero las recomendaciones, nuevamente a mi parecer, empeoran. "
   ]
  },
  {
   "cell_type": "markdown",
   "metadata": {
    "colab_type": "text",
    "id": "BYWghK0y193Q"
   },
   "source": [
    "## Usuario más afín al grupo de los ramones"
   ]
  },
  {
   "cell_type": "markdown",
   "metadata": {
    "colab_type": "text",
    "id": "friFeT2u2dCS"
   },
   "source": [
    "Para obtener el usuario más afín al grupo de los ramones utilizaremos el método **recommendForAllItems**."
   ]
  },
  {
   "cell_type": "code",
   "execution_count": 31,
   "metadata": {
    "colab": {
     "base_uri": "https://localhost:8080/",
     "height": 77
    },
    "colab_type": "code",
    "id": "kXEJ5Rxo4eo7",
    "outputId": "b0b86e3e-4fb4-41df-e6de-cdec897d0957"
   },
   "outputs": [
    {
     "data": {
      "text/html": [
       "<div>\n",
       "<style scoped>\n",
       "    .dataframe tbody tr th:only-of-type {\n",
       "        vertical-align: middle;\n",
       "    }\n",
       "\n",
       "    .dataframe tbody tr th {\n",
       "        vertical-align: top;\n",
       "    }\n",
       "\n",
       "    .dataframe thead th {\n",
       "        text-align: right;\n",
       "    }\n",
       "</style>\n",
       "<table border=\"1\" class=\"dataframe\">\n",
       "  <thead>\n",
       "    <tr style=\"text-align: right;\">\n",
       "      <th></th>\n",
       "      <th>artist_name</th>\n",
       "      <th>user_id</th>\n",
       "      <th>rating</th>\n",
       "    </tr>\n",
       "  </thead>\n",
       "  <tbody>\n",
       "    <tr>\n",
       "      <th>0</th>\n",
       "      <td>ramones</td>\n",
       "      <td>66c242f6ed299975dd495dd9570e5cd8ea88a978</td>\n",
       "      <td>7.715446</td>\n",
       "    </tr>\n",
       "  </tbody>\n",
       "</table>\n",
       "</div>"
      ],
      "text/plain": [
       "  artist_name                                   user_id    rating\n",
       "0     ramones  66c242f6ed299975dd495dd9570e5cd8ea88a978  7.715446"
      ]
     },
     "execution_count": 31,
     "metadata": {
      "tags": []
     },
     "output_type": "execute_result"
    }
   ],
   "source": [
    "artistRecs = model_final.stages[2].recommendForAllItems(1)\n",
    "recommendations_user_ramones = (\n",
    "    \n",
    "    artistRecs\n",
    "    .withColumn(\"recommendations\", F.explode(\"recommendations\"))\n",
    "    .withColumn(\"user_id_index\", F.col('recommendations')['user_id_index'])\n",
    "    .withColumn(\"rating\", F.col('recommendations')['rating'])\n",
    "    .drop(\"recommendations\")\n",
    "    .join(plays_log_indexer.select(['artist_id_index', 'artist_name']).distinct(), ['artist_id_index'], 'left')\n",
    "    .join(plays_log_indexer.select(['user_id_index', 'user_id']).distinct(), ['user_id_index'], 'left')\n",
    "    .select([\"artist_name\",\"user_id\",\"rating\"])\n",
    "    .where(F.col(\"artist_name\") == \"ramones\")\n",
    "    .orderBy(F.desc('rating'))\n",
    "    \n",
    ").toPandas()\n",
    "\n",
    "id_user_ramones = recommendations_user_ramones.user_id[0]\n",
    "\n",
    "recommendations_user_ramones"
   ]
  },
  {
   "cell_type": "markdown",
   "metadata": {
    "colab_type": "text",
    "id": "2vonQnec6zKM"
   },
   "source": [
    "Tenemos así el usuario más afín al grupo de los ramones. "
   ]
  },
  {
   "cell_type": "markdown",
   "metadata": {
    "colab_type": "text",
    "id": "pahvLW7l62Cs"
   },
   "source": [
    "## Recomendaciones para el usuario más afín al grupo de los ramones"
   ]
  },
  {
   "cell_type": "markdown",
   "metadata": {
    "colab_type": "text",
    "id": "rIdJi0Mj7YpI"
   },
   "source": [
    "De manera inversa obtengamos las 20 principales recomendaciones para este usuario."
   ]
  },
  {
   "cell_type": "code",
   "execution_count": 32,
   "metadata": {
    "colab": {
     "base_uri": "https://localhost:8080/",
     "height": 644
    },
    "colab_type": "code",
    "id": "g5EtRLeU7IGh",
    "outputId": "599a11e6-7d40-4bb9-cd07-c0e9154d2690"
   },
   "outputs": [
    {
     "data": {
      "text/html": [
       "<div>\n",
       "<style scoped>\n",
       "    .dataframe tbody tr th:only-of-type {\n",
       "        vertical-align: middle;\n",
       "    }\n",
       "\n",
       "    .dataframe tbody tr th {\n",
       "        vertical-align: top;\n",
       "    }\n",
       "\n",
       "    .dataframe thead th {\n",
       "        text-align: right;\n",
       "    }\n",
       "</style>\n",
       "<table border=\"1\" class=\"dataframe\">\n",
       "  <thead>\n",
       "    <tr style=\"text-align: right;\">\n",
       "      <th></th>\n",
       "      <th>user_id</th>\n",
       "      <th>artist_name</th>\n",
       "      <th>rating</th>\n",
       "    </tr>\n",
       "  </thead>\n",
       "  <tbody>\n",
       "    <tr>\n",
       "      <th>0</th>\n",
       "      <td>66c242f6ed299975dd495dd9570e5cd8ea88a978</td>\n",
       "      <td>rufus beck</td>\n",
       "      <td>10.636264</td>\n",
       "    </tr>\n",
       "    <tr>\n",
       "      <th>1</th>\n",
       "      <td>66c242f6ed299975dd495dd9570e5cd8ea88a978</td>\n",
       "      <td>my own private alaska</td>\n",
       "      <td>10.041678</td>\n",
       "    </tr>\n",
       "    <tr>\n",
       "      <th>2</th>\n",
       "      <td>66c242f6ed299975dd495dd9570e5cd8ea88a978</td>\n",
       "      <td>trypes</td>\n",
       "      <td>9.615947</td>\n",
       "    </tr>\n",
       "    <tr>\n",
       "      <th>3</th>\n",
       "      <td>66c242f6ed299975dd495dd9570e5cd8ea88a978</td>\n",
       "      <td>animé</td>\n",
       "      <td>9.615558</td>\n",
       "    </tr>\n",
       "    <tr>\n",
       "      <th>4</th>\n",
       "      <td>66c242f6ed299975dd495dd9570e5cd8ea88a978</td>\n",
       "      <td>nasenbluten</td>\n",
       "      <td>9.613873</td>\n",
       "    </tr>\n",
       "    <tr>\n",
       "      <th>5</th>\n",
       "      <td>66c242f6ed299975dd495dd9570e5cd8ea88a978</td>\n",
       "      <td>shaila</td>\n",
       "      <td>9.411289</td>\n",
       "    </tr>\n",
       "    <tr>\n",
       "      <th>6</th>\n",
       "      <td>66c242f6ed299975dd495dd9570e5cd8ea88a978</td>\n",
       "      <td>manhattan jazz quintet</td>\n",
       "      <td>9.307286</td>\n",
       "    </tr>\n",
       "    <tr>\n",
       "      <th>7</th>\n",
       "      <td>66c242f6ed299975dd495dd9570e5cd8ea88a978</td>\n",
       "      <td>wwe</td>\n",
       "      <td>9.210776</td>\n",
       "    </tr>\n",
       "    <tr>\n",
       "      <th>8</th>\n",
       "      <td>66c242f6ed299975dd495dd9570e5cd8ea88a978</td>\n",
       "      <td>findel</td>\n",
       "      <td>9.137978</td>\n",
       "    </tr>\n",
       "    <tr>\n",
       "      <th>9</th>\n",
       "      <td>66c242f6ed299975dd495dd9570e5cd8ea88a978</td>\n",
       "      <td>alai oli</td>\n",
       "      <td>9.131475</td>\n",
       "    </tr>\n",
       "    <tr>\n",
       "      <th>10</th>\n",
       "      <td>66c242f6ed299975dd495dd9570e5cd8ea88a978</td>\n",
       "      <td>the boat people</td>\n",
       "      <td>9.129006</td>\n",
       "    </tr>\n",
       "    <tr>\n",
       "      <th>11</th>\n",
       "      <td>66c242f6ed299975dd495dd9570e5cd8ea88a978</td>\n",
       "      <td>ex-otago</td>\n",
       "      <td>9.070103</td>\n",
       "    </tr>\n",
       "    <tr>\n",
       "      <th>12</th>\n",
       "      <td>66c242f6ed299975dd495dd9570e5cd8ea88a978</td>\n",
       "      <td>massacre</td>\n",
       "      <td>8.996097</td>\n",
       "    </tr>\n",
       "    <tr>\n",
       "      <th>13</th>\n",
       "      <td>66c242f6ed299975dd495dd9570e5cd8ea88a978</td>\n",
       "      <td>sturmwehr</td>\n",
       "      <td>8.964292</td>\n",
       "    </tr>\n",
       "    <tr>\n",
       "      <th>14</th>\n",
       "      <td>66c242f6ed299975dd495dd9570e5cd8ea88a978</td>\n",
       "      <td>eskorbuto</td>\n",
       "      <td>8.904798</td>\n",
       "    </tr>\n",
       "    <tr>\n",
       "      <th>15</th>\n",
       "      <td>66c242f6ed299975dd495dd9570e5cd8ea88a978</td>\n",
       "      <td>silber</td>\n",
       "      <td>8.887759</td>\n",
       "    </tr>\n",
       "    <tr>\n",
       "      <th>16</th>\n",
       "      <td>66c242f6ed299975dd495dd9570e5cd8ea88a978</td>\n",
       "      <td>Психея</td>\n",
       "      <td>8.826809</td>\n",
       "    </tr>\n",
       "    <tr>\n",
       "      <th>17</th>\n",
       "      <td>66c242f6ed299975dd495dd9570e5cd8ea88a978</td>\n",
       "      <td>В.П.Р.</td>\n",
       "      <td>8.824177</td>\n",
       "    </tr>\n",
       "    <tr>\n",
       "      <th>18</th>\n",
       "      <td>66c242f6ed299975dd495dd9570e5cd8ea88a978</td>\n",
       "      <td>stewart copeland</td>\n",
       "      <td>8.809169</td>\n",
       "    </tr>\n",
       "    <tr>\n",
       "      <th>19</th>\n",
       "      <td>66c242f6ed299975dd495dd9570e5cd8ea88a978</td>\n",
       "      <td>brings</td>\n",
       "      <td>8.789147</td>\n",
       "    </tr>\n",
       "  </tbody>\n",
       "</table>\n",
       "</div>"
      ],
      "text/plain": [
       "                                     user_id             artist_name  \\\n",
       "0   66c242f6ed299975dd495dd9570e5cd8ea88a978              rufus beck   \n",
       "1   66c242f6ed299975dd495dd9570e5cd8ea88a978   my own private alaska   \n",
       "2   66c242f6ed299975dd495dd9570e5cd8ea88a978                  trypes   \n",
       "3   66c242f6ed299975dd495dd9570e5cd8ea88a978                   animé   \n",
       "4   66c242f6ed299975dd495dd9570e5cd8ea88a978             nasenbluten   \n",
       "5   66c242f6ed299975dd495dd9570e5cd8ea88a978                  shaila   \n",
       "6   66c242f6ed299975dd495dd9570e5cd8ea88a978  manhattan jazz quintet   \n",
       "7   66c242f6ed299975dd495dd9570e5cd8ea88a978                     wwe   \n",
       "8   66c242f6ed299975dd495dd9570e5cd8ea88a978                  findel   \n",
       "9   66c242f6ed299975dd495dd9570e5cd8ea88a978                alai oli   \n",
       "10  66c242f6ed299975dd495dd9570e5cd8ea88a978         the boat people   \n",
       "11  66c242f6ed299975dd495dd9570e5cd8ea88a978                ex-otago   \n",
       "12  66c242f6ed299975dd495dd9570e5cd8ea88a978                massacre   \n",
       "13  66c242f6ed299975dd495dd9570e5cd8ea88a978               sturmwehr   \n",
       "14  66c242f6ed299975dd495dd9570e5cd8ea88a978               eskorbuto   \n",
       "15  66c242f6ed299975dd495dd9570e5cd8ea88a978                  silber   \n",
       "16  66c242f6ed299975dd495dd9570e5cd8ea88a978                  Психея   \n",
       "17  66c242f6ed299975dd495dd9570e5cd8ea88a978                  В.П.Р.   \n",
       "18  66c242f6ed299975dd495dd9570e5cd8ea88a978        stewart copeland   \n",
       "19  66c242f6ed299975dd495dd9570e5cd8ea88a978                  brings   \n",
       "\n",
       "       rating  \n",
       "0   10.636264  \n",
       "1   10.041678  \n",
       "2    9.615947  \n",
       "3    9.615558  \n",
       "4    9.613873  \n",
       "5    9.411289  \n",
       "6    9.307286  \n",
       "7    9.210776  \n",
       "8    9.137978  \n",
       "9    9.131475  \n",
       "10   9.129006  \n",
       "11   9.070103  \n",
       "12   8.996097  \n",
       "13   8.964292  \n",
       "14   8.904798  \n",
       "15   8.887759  \n",
       "16   8.826809  \n",
       "17   8.824177  \n",
       "18   8.809169  \n",
       "19   8.789147  "
      ]
     },
     "execution_count": 32,
     "metadata": {
      "tags": []
     },
     "output_type": "execute_result"
    }
   ],
   "source": [
    "userRecs = model_final.stages[2].recommendForAllUsers(20)\n",
    "recommendations_user_ramones = (\n",
    "\n",
    "    userRecs\n",
    "    .withColumn(\"recommendations\", F.explode(\"recommendations\"))\n",
    "    .withColumn(\"artist_id_index\", F.col('recommendations')['artist_id_index'])\n",
    "    .withColumn(\"rating\", F.col('recommendations')['rating'])\n",
    "    .drop(\"recommendations\")\n",
    "    .join(plays_log_indexer.select(['artist_id_index', 'artist_name']).distinct(), ['artist_id_index'], 'left')\n",
    "    .join(plays_log_indexer.select(['user_id_index', 'user_id']).distinct(), ['user_id_index'], 'left')\n",
    "    .where(F.col(\"user_id\") == id_user_ramones)\n",
    "    .select([\"user_id\", \"artist_name\",\"rating\"])\n",
    "    .orderBy(F.desc('rating'))\n",
    ").toPandas()\n",
    "\n",
    "recommendations_user_ramones"
   ]
  },
  {
   "cell_type": "markdown",
   "metadata": {
    "colab_type": "text",
    "id": "zyLBLC3a8Pa4"
   },
   "source": [
    "Miremos algunas de las canciones que escucha el usuario para comparar."
   ]
  },
  {
   "cell_type": "code",
   "execution_count": 33,
   "metadata": {
    "colab": {
     "base_uri": "https://localhost:8080/",
     "height": 345
    },
    "colab_type": "code",
    "id": "a0Uyfvs78O3d",
    "outputId": "4af9a925-ba16-49f6-e38f-3a3c29b3ba6c"
   },
   "outputs": [
    {
     "data": {
      "text/html": [
       "<div>\n",
       "<style scoped>\n",
       "    .dataframe tbody tr th:only-of-type {\n",
       "        vertical-align: middle;\n",
       "    }\n",
       "\n",
       "    .dataframe tbody tr th {\n",
       "        vertical-align: top;\n",
       "    }\n",
       "\n",
       "    .dataframe thead th {\n",
       "        text-align: right;\n",
       "    }\n",
       "</style>\n",
       "<table border=\"1\" class=\"dataframe\">\n",
       "  <thead>\n",
       "    <tr style=\"text-align: right;\">\n",
       "      <th></th>\n",
       "      <th>user_id</th>\n",
       "      <th>artist_name</th>\n",
       "      <th>plays</th>\n",
       "    </tr>\n",
       "  </thead>\n",
       "  <tbody>\n",
       "    <tr>\n",
       "      <th>0</th>\n",
       "      <td>66c242f6ed299975dd495dd9570e5cd8ea88a978</td>\n",
       "      <td>red hot chili peppers</td>\n",
       "      <td>10690.0</td>\n",
       "    </tr>\n",
       "    <tr>\n",
       "      <th>3</th>\n",
       "      <td>66c242f6ed299975dd495dd9570e5cd8ea88a978</td>\n",
       "      <td>system of a down</td>\n",
       "      <td>8074.0</td>\n",
       "    </tr>\n",
       "    <tr>\n",
       "      <th>15</th>\n",
       "      <td>66c242f6ed299975dd495dd9570e5cd8ea88a978</td>\n",
       "      <td>the offspring</td>\n",
       "      <td>7233.0</td>\n",
       "    </tr>\n",
       "    <tr>\n",
       "      <th>11</th>\n",
       "      <td>66c242f6ed299975dd495dd9570e5cd8ea88a978</td>\n",
       "      <td>iron maiden</td>\n",
       "      <td>6460.0</td>\n",
       "    </tr>\n",
       "    <tr>\n",
       "      <th>26</th>\n",
       "      <td>66c242f6ed299975dd495dd9570e5cd8ea88a978</td>\n",
       "      <td>koЯn</td>\n",
       "      <td>5691.0</td>\n",
       "    </tr>\n",
       "    <tr>\n",
       "      <th>5</th>\n",
       "      <td>66c242f6ed299975dd495dd9570e5cd8ea88a978</td>\n",
       "      <td>nightwish</td>\n",
       "      <td>5016.0</td>\n",
       "    </tr>\n",
       "    <tr>\n",
       "      <th>2</th>\n",
       "      <td>66c242f6ed299975dd495dd9570e5cd8ea88a978</td>\n",
       "      <td>muse</td>\n",
       "      <td>4655.0</td>\n",
       "    </tr>\n",
       "    <tr>\n",
       "      <th>18</th>\n",
       "      <td>66c242f6ed299975dd495dd9570e5cd8ea88a978</td>\n",
       "      <td>moby</td>\n",
       "      <td>4410.0</td>\n",
       "    </tr>\n",
       "    <tr>\n",
       "      <th>20</th>\n",
       "      <td>66c242f6ed299975dd495dd9570e5cd8ea88a978</td>\n",
       "      <td>green day</td>\n",
       "      <td>3501.0</td>\n",
       "    </tr>\n",
       "    <tr>\n",
       "      <th>23</th>\n",
       "      <td>66c242f6ed299975dd495dd9570e5cd8ea88a978</td>\n",
       "      <td>lostprophets</td>\n",
       "      <td>3499.0</td>\n",
       "    </tr>\n",
       "  </tbody>\n",
       "</table>\n",
       "</div>"
      ],
      "text/plain": [
       "                                     user_id            artist_name    plays\n",
       "0   66c242f6ed299975dd495dd9570e5cd8ea88a978  red hot chili peppers  10690.0\n",
       "3   66c242f6ed299975dd495dd9570e5cd8ea88a978       system of a down   8074.0\n",
       "15  66c242f6ed299975dd495dd9570e5cd8ea88a978          the offspring   7233.0\n",
       "11  66c242f6ed299975dd495dd9570e5cd8ea88a978            iron maiden   6460.0\n",
       "26  66c242f6ed299975dd495dd9570e5cd8ea88a978                   koЯn   5691.0\n",
       "5   66c242f6ed299975dd495dd9570e5cd8ea88a978              nightwish   5016.0\n",
       "2   66c242f6ed299975dd495dd9570e5cd8ea88a978                   muse   4655.0\n",
       "18  66c242f6ed299975dd495dd9570e5cd8ea88a978                   moby   4410.0\n",
       "20  66c242f6ed299975dd495dd9570e5cd8ea88a978              green day   3501.0\n",
       "23  66c242f6ed299975dd495dd9570e5cd8ea88a978           lostprophets   3499.0"
      ]
     },
     "execution_count": 33,
     "metadata": {
      "tags": []
     },
     "output_type": "execute_result"
    }
   ],
   "source": [
    "plays_log.where(plays_log.user_id == id_user_ramones).select([\"user_id\",\"artist_name\",\"plays\"]).toPandas().sort_values(\"plays\", ascending = False).head(10)"
   ]
  },
  {
   "cell_type": "markdown",
   "metadata": {
    "colab_type": "text",
    "id": "6LJOiMhJt6H3"
   },
   "source": [
    "Sinceramente no conozco casi a ningún grupo, ni de las recomendaciones, ni de los grupos que escucha el usuario. De esta manera, mi criterio para decidir que valores arrojan mejores recomendaciones se ha basado en diferentes puntos:\n",
    "\n",
    "<li> El primero es que, si el usuario escucha grupos con nombres ingleses, intentar que no aparezcan grupos muy raros con nombres en ruso o chino. Ya que considero que no es muy común estas recomendaciones.\n",
    "  \n",
    "<li> El segundo es que, el valor con la métrica NDCG (para los 10 elementos) por lo menos estuviese por encima de 0.1, ya que en general para factores latentes por debajo de 25 el resultado de esta métrica es muy muy pobre. No perdiendo de vista que mejorar esta métrica no implica necesariamente mejores recomendaciones para todos los usuarios.\n",
    "  \n",
    "<li> El tercero, intentar que el rating asociado no fuese muy bajo. En general tenemos un rating que va entre 0-10 aproximadamente, si la canción más recomendada tenía una valoración de 7 creo que indica que el sistema de recomendación es peor. \n",
    "  \n",
    "Dicho todo esto, me resulta muy complicado saber si estos grupos son buenas recomendaciones al no conocer este tipo de música. Sin embargo, por lo que he visto me parece un resultado razonable. "
   ]
  }
 ],
 "metadata": {
  "colab": {
   "collapsed_sections": [],
   "name": "Sistemas de recomendación Ejercicio 2.ipynb",
   "provenance": [],
   "version": "0.3.2"
  },
  "kernelspec": {
   "display_name": "Python 3",
   "language": "python",
   "name": "python3"
  },
  "language_info": {
   "codemirror_mode": {
    "name": "ipython",
    "version": 3
   },
   "file_extension": ".py",
   "mimetype": "text/x-python",
   "name": "python",
   "nbconvert_exporter": "python",
   "pygments_lexer": "ipython3",
   "version": "3.6.5"
  },
  "toc": {
   "base_numbering": 1,
   "nav_menu": {},
   "number_sections": true,
   "sideBar": true,
   "skip_h1_title": true,
   "title_cell": "Table of Contents",
   "title_sidebar": "Contents",
   "toc_cell": false,
   "toc_position": {},
   "toc_section_display": true,
   "toc_window_display": false
  },
  "varInspector": {
   "cols": {
    "lenName": 16,
    "lenType": 16,
    "lenVar": 40
   },
   "kernels_config": {
    "python": {
     "delete_cmd_postfix": "",
     "delete_cmd_prefix": "del ",
     "library": "var_list.py",
     "varRefreshCmd": "print(var_dic_list())"
    },
    "r": {
     "delete_cmd_postfix": ") ",
     "delete_cmd_prefix": "rm(",
     "library": "var_list.r",
     "varRefreshCmd": "cat(var_dic_list()) "
    }
   },
   "types_to_exclude": [
    "module",
    "function",
    "builtin_function_or_method",
    "instance",
    "_Feature"
   ],
   "window_display": false
  }
 },
 "nbformat": 4,
 "nbformat_minor": 1
}
